{
 "cells": [
  {
   "cell_type": "code",
   "execution_count": 1,
   "id": "7726d7a6",
   "metadata": {},
   "outputs": [],
   "source": [
    "from gurobipy import *"
   ]
  },
  {
   "cell_type": "code",
   "execution_count": 2,
   "id": "957242c1",
   "metadata": {},
   "outputs": [],
   "source": [
    "#route names A=0, B=1, C=2 -> ab, ac, ba, bc, ca, cb\n",
    "airport=['a', 'b', 'c']\n",
    "route=[\"ab\", \"ac\", \"ba\", \"bc\", \"ca\", \"cb\"]\n",
    "\n",
    "#Cargo arrival per day per route for each key-value pair\n",
    "\n",
    "cargo={'ab': [100, 200, 100, 400, 300],\n",
    "'ac':[50, 50, 50, 50, 50],\n",
    "'ba':[25, 25, 25, 25, 25],\n",
    "'bc':[25, 25, 25, 25, 25],\n",
    "'ca':[40, 40, 40, 40, 40],\n",
    "'cb':[400, 200, 300, 200, 400]}\n"
   ]
  },
  {
   "cell_type": "code",
   "execution_count": 3,
   "id": "b3efb243",
   "metadata": {},
   "outputs": [
    {
     "name": "stdout",
     "output_type": "stream",
     "text": [
      "Restricted license - for non-production use only - expires 2023-10-25\n"
     ]
    }
   ],
   "source": [
    "#create model\n",
    "myModel=Model(\"Project\")"
   ]
  },
  {
   "cell_type": "code",
   "execution_count": 4,
   "id": "c79b73cb",
   "metadata": {},
   "outputs": [],
   "source": [
    "#creating decision vars:\n",
    "\n",
    "# 1. Cargo -> H(i,j,t) -> amount of cargo held on day t where t=0,1,2,3,4\n",
    "\n",
    "\n",
    "H_dict={}\n",
    "\n",
    "for r in route:\n",
    "    H_list=[]\n",
    "    for t in range(5):\n",
    "        v=myModel.addVar(vtype=GRB.INTEGER, name=\"H_\"+str(r)+\"_\"+str(t))\n",
    "        H_list.append(v)\n",
    "    if r not in H_dict:\n",
    "        H_dict[r] = list()\n",
    "        H_dict[r].extend(H_list)\n",
    "# {\"01\": [H01_0, H01_1, H01_2, H01_3, H01_4], \"02\":[]}       \n",
    "\n",
    "        \n",
    "# 2. Aircraft -> X(i,j,t), Y(i, j, t), Z(i,t)\n",
    "\n",
    "\n",
    "X_dict={}\n",
    "Y_dict={}\n",
    "Z=[]\n",
    "for r in route:\n",
    "    X_list=[]\n",
    "    Y_list=[]\n",
    "    for t in range(5):\n",
    "        v1=myModel.addVar(vtype=GRB.CONTINUOUS, name=\"X_\"+str(r)+\"_\"+str(t))\n",
    "        X_list.append(v1)\n",
    "        v2=myModel.addVar(vtype=GRB.CONTINUOUS, name=\"Y_\"+str(r)+\"_\"+str(t))\n",
    "        Y_list.append(v2)\n",
    "    if r not in X_dict:\n",
    "        X_dict[r] = list()\n",
    "        X_dict[r].extend(X_list)\n",
    "    if r not in Y_dict:\n",
    "        Y_dict[r] = list()\n",
    "        Y_dict[r].extend(Y_list)\n",
    "        \n",
    "for i in airport:\n",
    "    for t in range(5):\n",
    "        v=myModel.addVar(vtype=GRB.CONTINUOUS, name=\"Z_\"+str(i)+\"_\"+str(t))\n",
    "        Z.append(v)"
   ]
  },
  {
   "cell_type": "code",
   "execution_count": 5,
   "id": "20876060",
   "metadata": {},
   "outputs": [],
   "source": [
    "myModel.update()"
   ]
  },
  {
   "cell_type": "code",
   "execution_count": 6,
   "id": "17b37425",
   "metadata": {},
   "outputs": [
    {
     "name": "stdout",
     "output_type": "stream",
     "text": [
      "{'ab': [<gurobi.Var H_ab_0>, <gurobi.Var H_ab_1>, <gurobi.Var H_ab_2>, <gurobi.Var H_ab_3>, <gurobi.Var H_ab_4>], 'ac': [<gurobi.Var H_ac_0>, <gurobi.Var H_ac_1>, <gurobi.Var H_ac_2>, <gurobi.Var H_ac_3>, <gurobi.Var H_ac_4>], 'ba': [<gurobi.Var H_ba_0>, <gurobi.Var H_ba_1>, <gurobi.Var H_ba_2>, <gurobi.Var H_ba_3>, <gurobi.Var H_ba_4>], 'bc': [<gurobi.Var H_bc_0>, <gurobi.Var H_bc_1>, <gurobi.Var H_bc_2>, <gurobi.Var H_bc_3>, <gurobi.Var H_bc_4>], 'ca': [<gurobi.Var H_ca_0>, <gurobi.Var H_ca_1>, <gurobi.Var H_ca_2>, <gurobi.Var H_ca_3>, <gurobi.Var H_ca_4>], 'cb': [<gurobi.Var H_cb_0>, <gurobi.Var H_cb_1>, <gurobi.Var H_cb_2>, <gurobi.Var H_cb_3>, <gurobi.Var H_cb_4>]}\n"
     ]
    }
   ],
   "source": [
    "print(H_dict)"
   ]
  },
  {
   "cell_type": "code",
   "execution_count": 7,
   "id": "ac27980d",
   "metadata": {},
   "outputs": [
    {
     "name": "stdout",
     "output_type": "stream",
     "text": [
      "{'ab': [<gurobi.Var X_ab_0>, <gurobi.Var X_ab_1>, <gurobi.Var X_ab_2>, <gurobi.Var X_ab_3>, <gurobi.Var X_ab_4>], 'ac': [<gurobi.Var X_ac_0>, <gurobi.Var X_ac_1>, <gurobi.Var X_ac_2>, <gurobi.Var X_ac_3>, <gurobi.Var X_ac_4>], 'ba': [<gurobi.Var X_ba_0>, <gurobi.Var X_ba_1>, <gurobi.Var X_ba_2>, <gurobi.Var X_ba_3>, <gurobi.Var X_ba_4>], 'bc': [<gurobi.Var X_bc_0>, <gurobi.Var X_bc_1>, <gurobi.Var X_bc_2>, <gurobi.Var X_bc_3>, <gurobi.Var X_bc_4>], 'ca': [<gurobi.Var X_ca_0>, <gurobi.Var X_ca_1>, <gurobi.Var X_ca_2>, <gurobi.Var X_ca_3>, <gurobi.Var X_ca_4>], 'cb': [<gurobi.Var X_cb_0>, <gurobi.Var X_cb_1>, <gurobi.Var X_cb_2>, <gurobi.Var X_cb_3>, <gurobi.Var X_cb_4>]}\n"
     ]
    }
   ],
   "source": [
    "print(X_dict)"
   ]
  },
  {
   "cell_type": "code",
   "execution_count": 8,
   "id": "68263e4e",
   "metadata": {},
   "outputs": [
    {
     "name": "stdout",
     "output_type": "stream",
     "text": [
      "{'ab': [<gurobi.Var Y_ab_0>, <gurobi.Var Y_ab_1>, <gurobi.Var Y_ab_2>, <gurobi.Var Y_ab_3>, <gurobi.Var Y_ab_4>], 'ac': [<gurobi.Var Y_ac_0>, <gurobi.Var Y_ac_1>, <gurobi.Var Y_ac_2>, <gurobi.Var Y_ac_3>, <gurobi.Var Y_ac_4>], 'ba': [<gurobi.Var Y_ba_0>, <gurobi.Var Y_ba_1>, <gurobi.Var Y_ba_2>, <gurobi.Var Y_ba_3>, <gurobi.Var Y_ba_4>], 'bc': [<gurobi.Var Y_bc_0>, <gurobi.Var Y_bc_1>, <gurobi.Var Y_bc_2>, <gurobi.Var Y_bc_3>, <gurobi.Var Y_bc_4>], 'ca': [<gurobi.Var Y_ca_0>, <gurobi.Var Y_ca_1>, <gurobi.Var Y_ca_2>, <gurobi.Var Y_ca_3>, <gurobi.Var Y_ca_4>], 'cb': [<gurobi.Var Y_cb_0>, <gurobi.Var Y_cb_1>, <gurobi.Var Y_cb_2>, <gurobi.Var Y_cb_3>, <gurobi.Var Y_cb_4>]}\n"
     ]
    }
   ],
   "source": [
    "print(Y_dict)"
   ]
  },
  {
   "cell_type": "code",
   "execution_count": 9,
   "id": "14327239",
   "metadata": {},
   "outputs": [
    {
     "name": "stdout",
     "output_type": "stream",
     "text": [
      "[<gurobi.Var Z_a_0>, <gurobi.Var Z_a_1>, <gurobi.Var Z_a_2>, <gurobi.Var Z_a_3>, <gurobi.Var Z_a_4>, <gurobi.Var Z_b_0>, <gurobi.Var Z_b_1>, <gurobi.Var Z_b_2>, <gurobi.Var Z_b_3>, <gurobi.Var Z_b_4>, <gurobi.Var Z_c_0>, <gurobi.Var Z_c_1>, <gurobi.Var Z_c_2>, <gurobi.Var Z_c_3>, <gurobi.Var Z_c_4>]\n"
     ]
    }
   ],
   "source": [
    "print(Z)"
   ]
  },
  {
   "cell_type": "code",
   "execution_count": 10,
   "id": "89df1cd1",
   "metadata": {},
   "outputs": [],
   "source": [
    "# create objective function \n",
    "\n",
    "#relocation > ab, ba =7, ac, ca=3, bc, cb=6\n",
    "\n",
    "obj=LinExpr()\n",
    "\n",
    "for r in route:\n",
    "    if(r==\"ab\"):\n",
    "        list1=Y_dict[r]\n",
    "        for i in list1:\n",
    "            obj+=7*i\n",
    "    elif(r==\"ac\"):\n",
    "        list2=Y_dict[r]\n",
    "        for i in list2:\n",
    "            obj+=3*i\n",
    "    elif(r==\"ba\"):\n",
    "        list3=Y_dict[r]\n",
    "        for i in list3:\n",
    "            obj+=7*i\n",
    "    elif(r==\"bc\"):\n",
    "        list4=Y_dict[r]\n",
    "        for i in list4:\n",
    "            obj+=6*i\n",
    "    elif(r==\"ca\"):\n",
    "        list5=Y_dict[r]\n",
    "        for i in list5:\n",
    "            obj+=3*i\n",
    "    elif(r==\"cb\"):\n",
    "        list6=Y_dict[r]\n",
    "        for i in list6:\n",
    "            obj+=6*i\n",
    "\n",
    "#holding cost\n",
    "for z in Z:\n",
    "    obj+=10*z\n",
    "\n"
   ]
  },
  {
   "cell_type": "code",
   "execution_count": 11,
   "id": "98f8d315",
   "metadata": {},
   "outputs": [
    {
     "name": "stdout",
     "output_type": "stream",
     "text": [
      "[<gurobi.Var Z_a_0>, <gurobi.Var Z_a_1>, <gurobi.Var Z_a_2>, <gurobi.Var Z_a_3>, <gurobi.Var Z_a_4>, <gurobi.Var Z_b_0>, <gurobi.Var Z_b_1>, <gurobi.Var Z_b_2>, <gurobi.Var Z_b_3>, <gurobi.Var Z_b_4>, <gurobi.Var Z_c_0>, <gurobi.Var Z_c_1>, <gurobi.Var Z_c_2>, <gurobi.Var Z_c_3>, <gurobi.Var Z_c_4>]\n"
     ]
    }
   ],
   "source": [
    "print(Z)"
   ]
  },
  {
   "cell_type": "code",
   "execution_count": 12,
   "id": "474041ad",
   "metadata": {},
   "outputs": [],
   "source": [
    "myModel.setObjective(obj, GRB.MINIMIZE)"
   ]
  },
  {
   "cell_type": "code",
   "execution_count": 13,
   "id": "0178b657",
   "metadata": {},
   "outputs": [],
   "source": [
    "myModel.update()"
   ]
  },
  {
   "cell_type": "code",
   "execution_count": 14,
   "id": "2fa21b11",
   "metadata": {},
   "outputs": [
    {
     "name": "stdout",
     "output_type": "stream",
     "text": [
      "<gurobi.LinExpr: 7.0 Y_ab_0 + 7.0 Y_ab_1 + 7.0 Y_ab_2 + 7.0 Y_ab_3 + 7.0 Y_ab_4 + 3.0 Y_ac_0 + 3.0 Y_ac_1 + 3.0 Y_ac_2 + 3.0 Y_ac_3 + 3.0 Y_ac_4 + 7.0 Y_ba_0 + 7.0 Y_ba_1 + 7.0 Y_ba_2 + 7.0 Y_ba_3 + 7.0 Y_ba_4 + 6.0 Y_bc_0 + 6.0 Y_bc_1 + 6.0 Y_bc_2 + 6.0 Y_bc_3 + 6.0 Y_bc_4 + 3.0 Y_ca_0 + 3.0 Y_ca_1 + 3.0 Y_ca_2 + 3.0 Y_ca_3 + 3.0 Y_ca_4 + 6.0 Y_cb_0 + 6.0 Y_cb_1 + 6.0 Y_cb_2 + 6.0 Y_cb_3 + 6.0 Y_cb_4 + 10.0 Z_a_0 + 10.0 Z_a_1 + 10.0 Z_a_2 + 10.0 Z_a_3 + 10.0 Z_a_4 + 10.0 Z_b_0 + 10.0 Z_b_1 + 10.0 Z_b_2 + 10.0 Z_b_3 + 10.0 Z_b_4 + 10.0 Z_c_0 + 10.0 Z_c_1 + 10.0 Z_c_2 + 10.0 Z_c_3 + 10.0 Z_c_4>\n"
     ]
    }
   ],
   "source": [
    "print(obj)"
   ]
  },
  {
   "cell_type": "code",
   "execution_count": 15,
   "id": "e7f68c9a",
   "metadata": {},
   "outputs": [],
   "source": [
    "list_xab=X_dict[\"ab\"]\n",
    "list_xac=X_dict[\"ac\"]\n",
    "list_xba=X_dict[\"ba\"]\n",
    "list_xbc=X_dict[\"bc\"]\n",
    "list_xca=X_dict[\"ca\"]\n",
    "list_xcb=X_dict[\"cb\"]\n",
    "\n",
    "list_yab=Y_dict[\"ab\"]\n",
    "list_yac=Y_dict[\"ac\"]\n",
    "list_yba=Y_dict[\"ba\"]\n",
    "list_ybc=Y_dict[\"bc\"]\n",
    "list_yca=Y_dict[\"ca\"]\n",
    "list_ycb=Y_dict[\"cb\"]\n",
    "\n",
    "list_hab=H_dict[\"ab\"]\n",
    "list_hac=H_dict[\"ac\"]\n",
    "list_hba=H_dict[\"ba\"]\n",
    "list_hbc=H_dict[\"bc\"]\n",
    "list_hca=H_dict[\"ca\"]\n",
    "list_hcb=H_dict[\"cb\"]\n",
    "\n",
    "list_cab=cargo[\"ab\"]\n",
    "list_cac=cargo[\"ac\"]\n",
    "list_cba=cargo[\"ba\"]\n",
    "list_cbc=cargo[\"bc\"]\n",
    "list_cca=cargo[\"ca\"]\n",
    "list_ccb=cargo[\"cb\"]\n"
   ]
  },
  {
   "cell_type": "code",
   "execution_count": 16,
   "id": "17ea7304",
   "metadata": {},
   "outputs": [
    {
     "name": "stdout",
     "output_type": "stream",
     "text": [
      "<gurobi.Var Z_b_1>\n"
     ]
    }
   ],
   "source": [
    "print(Z[6])"
   ]
  },
  {
   "cell_type": "code",
   "execution_count": 17,
   "id": "a43f3e12",
   "metadata": {},
   "outputs": [
    {
     "data": {
      "text/plain": [
       "<gurobi.Constr *Awaiting Model Update*>"
      ]
     },
     "execution_count": 17,
     "metadata": {},
     "output_type": "execute_result"
    }
   ],
   "source": [
    "# cargo\n",
    "\n",
    "for t in range(0,4):\n",
    "    constr=LinExpr()\n",
    "    constr+=list_hab[t]-list_hab[t+1]-list_xab[t+1]+list_cab[t+1]\n",
    "    myModel.addConstr(lhs = constr , sense = GRB.EQUAL, rhs = 0 , name = 'cargo_ab_'+str(t))\n",
    "    \n",
    "    \n",
    "    \n",
    "constr1=LinExpr()\n",
    "constr1+=-list_hab[4]+list_hab[0]-list_xab[0]+list_cab[0]\n",
    "myModel.addConstr(lhs = constr1 , sense = GRB.EQUAL, rhs = 0 , name = 'cargo_ab_4')"
   ]
  },
  {
   "cell_type": "code",
   "execution_count": 18,
   "id": "150d7cc1",
   "metadata": {},
   "outputs": [
    {
     "data": {
      "text/plain": [
       "<gurobi.Constr *Awaiting Model Update*>"
      ]
     },
     "execution_count": 18,
     "metadata": {},
     "output_type": "execute_result"
    }
   ],
   "source": [
    "for t in range(0,4):\n",
    "    constr=LinExpr()\n",
    "    constr+=list_hac[t]-list_hac[t+1]-list_xac[t+1]+list_cac[t+1]\n",
    "    myModel.addConstr(lhs = constr , sense = GRB.EQUAL, rhs = 0 , name = 'cargo_ac_'+str(t))\n",
    "    \n",
    "    \n",
    "    \n",
    "constr1=LinExpr()\n",
    "constr1+=-list_hac[4]+list_hac[0]-list_xac[0]+list_cac[0]\n",
    "myModel.addConstr(lhs = constr1 , sense = GRB.EQUAL, rhs = 0 , name = 'cargo_ac_4')"
   ]
  },
  {
   "cell_type": "code",
   "execution_count": 19,
   "id": "ae63b48f",
   "metadata": {},
   "outputs": [
    {
     "data": {
      "text/plain": [
       "<gurobi.Constr *Awaiting Model Update*>"
      ]
     },
     "execution_count": 19,
     "metadata": {},
     "output_type": "execute_result"
    }
   ],
   "source": [
    "for t in range(0,4):\n",
    "    constr=LinExpr()\n",
    "    constr+=list_hba[t]-list_hba[t+1]-list_xba[t+1]+list_cba[t+1]\n",
    "    myModel.addConstr(lhs = constr , sense = GRB.EQUAL, rhs = 0 , name = 'cargo_ba_'+str(t))\n",
    "    \n",
    "    \n",
    "    \n",
    "constr1=LinExpr()\n",
    "constr1+=-list_hba[4]+list_hba[0]-list_xba[0]+list_cba[0]\n",
    "myModel.addConstr(lhs = constr1 , sense = GRB.EQUAL, rhs = 0 , name = 'cargo_ba_4')"
   ]
  },
  {
   "cell_type": "code",
   "execution_count": 20,
   "id": "cc9ca505",
   "metadata": {},
   "outputs": [
    {
     "data": {
      "text/plain": [
       "<gurobi.Constr *Awaiting Model Update*>"
      ]
     },
     "execution_count": 20,
     "metadata": {},
     "output_type": "execute_result"
    }
   ],
   "source": [
    "for t in range(0,4):\n",
    "    constr=LinExpr()\n",
    "    constr+=list_hbc[t]-list_hbc[t+1]-list_xbc[t+1]+list_cbc[t+1]\n",
    "    myModel.addConstr(lhs = constr , sense = GRB.EQUAL, rhs = 0 , name = 'cargo_bc_'+str(t))\n",
    "    \n",
    "    \n",
    "    \n",
    "constr1=LinExpr()\n",
    "constr1+=-list_hbc[4]+list_hbc[0]-list_xbc[0]+list_cbc[0]\n",
    "myModel.addConstr(lhs = constr1 , sense = GRB.EQUAL, rhs = 0 , name = 'cargo_bc_4')"
   ]
  },
  {
   "cell_type": "code",
   "execution_count": 21,
   "id": "8d3d972e",
   "metadata": {},
   "outputs": [
    {
     "data": {
      "text/plain": [
       "<gurobi.Constr *Awaiting Model Update*>"
      ]
     },
     "execution_count": 21,
     "metadata": {},
     "output_type": "execute_result"
    }
   ],
   "source": [
    "for t in range(0,4):\n",
    "    constr=LinExpr()\n",
    "    constr+=list_hca[t]-list_hca[t+1]-list_xca[t+1]+list_cca[t+1]\n",
    "    myModel.addConstr(lhs = constr , sense = GRB.EQUAL, rhs = 0 , name = 'cargo_ca_'+str(t))\n",
    "    \n",
    "    \n",
    "    \n",
    "constr1=LinExpr()\n",
    "constr1+=-list_hca[4]+list_hca[0]-list_xca[0]+list_cca[0]\n",
    "myModel.addConstr(lhs = constr1, sense = GRB.EQUAL, rhs = 0 , name = 'cargo_ca_4')"
   ]
  },
  {
   "cell_type": "code",
   "execution_count": 22,
   "id": "cc6a682b",
   "metadata": {},
   "outputs": [
    {
     "data": {
      "text/plain": [
       "<gurobi.Constr *Awaiting Model Update*>"
      ]
     },
     "execution_count": 22,
     "metadata": {},
     "output_type": "execute_result"
    }
   ],
   "source": [
    "for t in range(0,4):\n",
    "    constr=LinExpr()\n",
    "    constr+=list_hcb[t]-list_hcb[t+1]-list_xcb[t+1]+list_ccb[t+1]\n",
    "    myModel.addConstr(lhs = constr , sense = GRB.EQUAL, rhs = 0 , name = 'cargo_cb_'+str(t))\n",
    "    \n",
    "    \n",
    "    \n",
    "constr1=LinExpr()\n",
    "constr1+=-list_hcb[4]+list_hcb[0]-list_xcb[0]+list_ccb[0]\n",
    "myModel.addConstr(lhs = constr1 , sense = GRB.EQUAL, rhs = 0 , name = 'cargo_cb_4')"
   ]
  },
  {
   "cell_type": "code",
   "execution_count": 23,
   "id": "322cd2f0",
   "metadata": {},
   "outputs": [
    {
     "data": {
      "text/plain": [
       "<gurobi.Constr *Awaiting Model Update*>"
      ]
     },
     "execution_count": 23,
     "metadata": {},
     "output_type": "execute_result"
    }
   ],
   "source": [
    "# Aircraft 1\n",
    "\n",
    "#E1ba + E1ca - E2ab - E2ac + F1ba + F1ca - F2ab - F2ac + I1a - I2a = 0\n",
    "\n",
    "for t in range(0,4):\n",
    "    constr=LinExpr()\n",
    "    constr+=list_yba[t]+list_yca[t]-list_yab[t+1]-list_yac[t+1]+list_xba[t]+list_xca[t]-list_xab[t+1]-list_xac[t+1]+Z[t]-Z[t+1]\n",
    "    myModel.addConstr(lhs = constr , sense = GRB.EQUAL, rhs = 0 , name = 'type1_a_'+str(t))\n",
    "\n",
    "# - E1ab - E1ac + E5ba + E5ca - F1ab - F1ac + F5ba + F5ca - I1a + I5a = 0\n",
    "constr1=LinExpr()\n",
    "constr1+=-list_yab[0]-list_yac[0]+list_yba[4]+list_yca[4]-list_xab[0]-list_xac[0]+list_xba[4]+list_xba[4]-Z[0]+Z[4]\n",
    "myModel.addConstr(lhs = constr1 , sense = GRB.EQUAL, rhs = 0 , name = 'type1_a_4')"
   ]
  },
  {
   "cell_type": "code",
   "execution_count": 24,
   "id": "cffd3bcf",
   "metadata": {},
   "outputs": [
    {
     "data": {
      "text/plain": [
       "<gurobi.Constr *Awaiting Model Update*>"
      ]
     },
     "execution_count": 24,
     "metadata": {},
     "output_type": "execute_result"
    }
   ],
   "source": [
    "#E1ab + E1cb - E2ba - E2bc + F1ab + F1cb - F2ba - F2bc + I1b - I2b = 0\n",
    "\n",
    "for t in range(0,4):\n",
    "    constr=LinExpr()\n",
    "    constr+=list_yab[t]+list_ycb[t]-list_yba[t+1]-list_ybc[t+1]+list_xab[t]+list_xcb[t]-list_xba[t+1]-list_xbc[t+1]+Z[t+5]-Z[t+5+1]\n",
    "    myModel.addConstr(lhs = constr , sense = GRB.EQUAL, rhs = 0 , name = 'type1_b_'+str(t))\n",
    "\n",
    "# - E1ba - E1bc + E5ab + E5cb - F1ba - F1bc + F5ab + F5cb - I1b + I5b = 0\n",
    "constr1=LinExpr()\n",
    "constr1+=-list_yba[0]-list_ybc[0]+list_yab[4]+list_ycb[4]-list_xba[0]-list_xbc[0]+list_xab[4]+list_xcb[4]-Z[5]+Z[9]\n",
    "myModel.addConstr(lhs = constr1 , sense = GRB.EQUAL, rhs = 0 , name = 'type1_b_4')"
   ]
  },
  {
   "cell_type": "code",
   "execution_count": 25,
   "id": "b056d788",
   "metadata": {},
   "outputs": [
    {
     "data": {
      "text/plain": [
       "<gurobi.Constr *Awaiting Model Update*>"
      ]
     },
     "execution_count": 25,
     "metadata": {},
     "output_type": "execute_result"
    }
   ],
   "source": [
    "#E1ac + E1bc - E2ca - E2cb + F1ac + F1bc - F2ca - F2cb + I1c - I2c = 0\n",
    "\n",
    "for t in range(0,4):\n",
    "    constr=LinExpr()\n",
    "    constr+=list_yac[t]+list_ybc[t]-list_yca[t+1]-list_ycb[t+1]+list_xac[t]+list_xbc[t]-list_xca[t+1]-list_xcb[t+1]+Z[t+10]-Z[t+10+1]\n",
    "    myModel.addConstr(lhs = constr , sense = GRB.EQUAL, rhs = 0 , name = 'type1_c_'+str(t))\n",
    "\n",
    "# - E1ca - E1cb + E5ac + E5bc - F1ca - F1cb + F5ac + F5bc - I1c + I5c = 0\n",
    "constr1=LinExpr()\n",
    "constr1+=-list_yca[0]-list_ycb[0]+list_yac[4]+list_ybc[4]-list_xca[0]-list_xcb[0]+list_xac[4]+list_xbc[4]-Z[10]+Z[14]\n",
    "myModel.addConstr(lhs = constr1 , sense = GRB.EQUAL, rhs = 0 , name = 'type1_c_4')"
   ]
  },
  {
   "cell_type": "code",
   "execution_count": 26,
   "id": "7824c500",
   "metadata": {},
   "outputs": [
    {
     "data": {
      "text/plain": [
       "<gurobi.Constr *Awaiting Model Update*>"
      ]
     },
     "execution_count": 26,
     "metadata": {},
     "output_type": "execute_result"
    }
   ],
   "source": [
    "# upper bound\n",
    "\n",
    "for t in range(0,4):\n",
    "    constr_ab=LinExpr()\n",
    "    constr_ac=LinExpr()\n",
    "    constr_ba=LinExpr()\n",
    "    constr_bc=LinExpr()\n",
    "    constr_ca=LinExpr()\n",
    "    constr_cb=LinExpr()\n",
    "    \n",
    "    constr_ab+=-list_hab[t]+list_xab[t+1]-list_cab[t+1]\n",
    "    myModel.addConstr(lhs = constr_ab , sense = GRB.LESS_EQUAL, rhs = 0 , name = 'type2_ab_'+str(t))\n",
    "    \n",
    "    constr_ac+=-list_hac[t]+list_xac[t+1]-list_cac[t+1]\n",
    "    myModel.addConstr(lhs = constr_ac , sense = GRB.LESS_EQUAL, rhs = 0 , name = 'type2_ac_'+str(t))\n",
    "    \n",
    "    constr_ba+=-list_hba[t]+list_xba[t+1]-list_cba[t+1]\n",
    "    myModel.addConstr(lhs = constr_ba , sense = GRB.LESS_EQUAL, rhs = 0 , name = 'type2_ba_'+str(t))\n",
    "    \n",
    "    constr_bc+=-list_hbc[t]+list_xbc[t+1]-list_cbc[t+1]\n",
    "    myModel.addConstr(lhs = constr_bc , sense = GRB.LESS_EQUAL, rhs = 0 , name = 'type2_bc_'+str(t))\n",
    "    \n",
    "    constr_ca+=-list_hca[t]+list_xca[t+1]-list_cca[t+1]\n",
    "    myModel.addConstr(lhs = constr_ca , sense = GRB.LESS_EQUAL, rhs = 0 , name = 'type2_ca_'+str(t))\n",
    "    \n",
    "    constr_cb+=-list_hcb[t]+list_xcb[t+1]-list_ccb[t+1]\n",
    "    myModel.addConstr(lhs = constr_cb , sense = GRB.LESS_EQUAL, rhs = 0 , name = 'type2_cb_'+str(t))\n",
    "    \n",
    "    \n",
    "constr_ab=LinExpr()\n",
    "constr_ac=LinExpr()\n",
    "constr_ba=LinExpr()\n",
    "constr_bc=LinExpr()\n",
    "constr_ca=LinExpr()\n",
    "constr_cb=LinExpr()\n",
    "\n",
    "constr_ab+=-list_hab[4]+list_xab[0]-list_cab[0]\n",
    "myModel.addConstr(lhs = constr_ab , sense = GRB.LESS_EQUAL, rhs = 0 , name = 'type2_ab_4')\n",
    "    \n",
    "constr_ac+=-list_hac[4]+list_xac[0]-list_cac[0]\n",
    "myModel.addConstr(lhs = constr_ac , sense = GRB.LESS_EQUAL, rhs = 0 , name = 'type2_ac_4')\n",
    "    \n",
    "constr_ba+=-list_hba[4]+list_xba[0]-list_cba[0]\n",
    "myModel.addConstr(lhs = constr_ba , sense = GRB.LESS_EQUAL, rhs = 0 , name = 'type2_ba_4')\n",
    "    \n",
    "constr_bc+=-list_hbc[4]+list_xbc[0]-list_cbc[0]\n",
    "myModel.addConstr(lhs = constr_bc , sense = GRB.LESS_EQUAL, rhs = 0 , name = 'type2_bc_4')\n",
    "    \n",
    "constr_ca+=-list_hca[4]+list_xca[0]-list_cca[0]\n",
    "myModel.addConstr(lhs = constr_ca , sense = GRB.LESS_EQUAL, rhs = 0 , name = 'type2_ca_4')\n",
    "    \n",
    "constr_cb+=-list_hcb[4]+list_xcb[0]-list_ccb[0]\n",
    "myModel.addConstr(lhs = constr_cb , sense = GRB.LESS_EQUAL, rhs = 0 , name = 'type2_cb_4')"
   ]
  },
  {
   "cell_type": "code",
   "execution_count": 27,
   "id": "4a315893",
   "metadata": {},
   "outputs": [],
   "source": [
    "# totality\n",
    "\n",
    "for i in range(0,5):\n",
    "    \n",
    "    constr1=LinExpr()\n",
    "    constr1+=list_yab[t]+list_yac[t]+list_yba[t]+list_ybc[t]+list_yca[t]+list_ycb[t]+ list_xab[t]+list_xac[t]+list_xba[t]+list_xbc[t]+list_xca[t]+list_xcb[t]+Z[t]+Z[t+5]+Z[t+10]\n",
    "    myModel.addConstr(lhs = constr1 , sense = GRB.EQUAL, rhs = 1200 , name = 'type3_'+str(i))"
   ]
  },
  {
   "cell_type": "code",
   "execution_count": 28,
   "id": "1823b8d1",
   "metadata": {},
   "outputs": [
    {
     "data": {
      "text/plain": [
       "<gurobi.Constr *Awaiting Model Update*>"
      ]
     },
     "execution_count": 28,
     "metadata": {},
     "output_type": "execute_result"
    }
   ],
   "source": [
    "# day wise\n",
    "\n",
    "ab=LinExpr()\n",
    "ac=LinExpr()\n",
    "ba=LinExpr()\n",
    "bc=LinExpr()\n",
    "ca=LinExpr()\n",
    "cb=LinExpr()\n",
    "\n",
    "for i in range(0,5):\n",
    "    \n",
    "    \n",
    "    ab+=list_cab[i]\n",
    "    ac+=list_cac[i]\n",
    "    ba+=list_cba[i]\n",
    "    bc+=list_cbc[i]\n",
    "    ca+=list_cca[i]\n",
    "    cb+=list_ccb[i]\n",
    "myModel.addConstr(lhs = ab , sense = GRB.EQUAL, rhs = 1100 , name = 'type4_ab')\n",
    "myModel.addConstr(lhs = ac , sense = GRB.EQUAL, rhs = 250 , name = 'type4_ac')\n",
    "myModel.addConstr(lhs = ba , sense = GRB.EQUAL, rhs = 125 , name = 'type4_ba')\n",
    "myModel.addConstr(lhs = bc , sense = GRB.EQUAL, rhs = 125 , name = 'type4_bc')\n",
    "myModel.addConstr(lhs = ca , sense = GRB.EQUAL, rhs = 200 , name = 'type4_ca')\n",
    "myModel.addConstr(lhs = cb , sense = GRB.EQUAL, rhs = 1500 , name = 'type4_cb')"
   ]
  },
  {
   "cell_type": "code",
   "execution_count": 29,
   "id": "803a3b6d",
   "metadata": {},
   "outputs": [],
   "source": [
    "myModel.update()"
   ]
  },
  {
   "cell_type": "code",
   "execution_count": 30,
   "id": "142b81b3",
   "metadata": {},
   "outputs": [],
   "source": [
    "myModel.write(\"Project.lp\")"
   ]
  },
  {
   "cell_type": "code",
   "execution_count": null,
   "id": "6ed2c075",
   "metadata": {},
   "outputs": [
    {
     "name": "stdout",
     "output_type": "stream",
     "text": [
      "Gurobi Optimizer version 9.5.2 build v9.5.2rc0 (mac64[rosetta2])\n",
      "Thread count: 8 physical cores, 8 logical processors, using up to 8 threads\n",
      "Optimize a model with 86 rows, 105 columns and 374 nonzeros\n",
      "Model fingerprint: 0xd767fa12\n",
      "Variable types: 75 continuous, 30 integer (0 binary)\n",
      "Coefficient statistics:\n",
      "  Matrix range     [1e+00, 2e+00]\n",
      "  Objective range  [3e+00, 1e+01]\n",
      "  Bounds range     [0e+00, 0e+00]\n",
      "  RHS range        [2e+01, 1e+03]\n",
      "Presolve removed 34 rows and 18 columns\n",
      "Presolve time: 0.00s\n",
      "Presolved: 52 rows, 87 columns, 272 nonzeros\n",
      "Variable types: 45 continuous, 42 integer (0 binary)\n",
      "\n",
      "Root relaxation: objective 4.740000e+03, 57 iterations, 0.00 seconds (0.00 work units)\n",
      "\n",
      "    Nodes    |    Current Node    |     Objective Bounds      |     Work\n",
      " Expl Unexpl |  Obj  Depth IntInf | Incumbent    BestBd   Gap | It/Node Time\n",
      "\n",
      "     0     0 4740.00000    0   10          - 4740.00000      -     -    0s\n",
      "H    0     0                    4747.0000000 4740.00000  0.15%     -    0s\n",
      "     0     0 4740.00000    0   21 4747.00000 4740.00000  0.15%     -    0s\n",
      "     0     0 4740.00000    0   22 4747.00000 4740.00000  0.15%     -    0s\n",
      "     0     0 4740.00000    0   10 4747.00000 4740.00000  0.15%     -    0s\n",
      "     0     0 4740.00000    0   10 4747.00000 4740.00000  0.15%     -    0s\n",
      "     0     2 4740.00000    0   10 4747.00000 4740.00000  0.15%     -    0s\n",
      "H   32    40                    4746.9999988 4740.00000  0.15%   1.3    0s\n",
      "H  367   385                    4746.9999935 4740.00000  0.15%   1.3    0s\n",
      "H 1953  3187                    4746.9999920 4740.00000  0.15%   1.3    0s\n",
      "* 2202  3183             423    4746.0000000 4740.00000  0.13%   1.3    0s\n",
      "H33473 12802                    4745.9999995 4745.49596  0.01%   1.4    1s\n",
      "H33551 12216                    4745.9999985 4745.50137  0.01%   1.4    1s\n",
      "H34499 13439                    4745.9999980 4745.50137  0.01%   1.4    1s\n",
      "H34862 12740                    4745.9999971 4745.50137  0.01%   1.4    1s\n",
      "H38126 12801                    4745.9999963 4745.50137  0.01%   1.5    1s\n",
      " 192959 102096 4745.86112  107   13 4746.00000 4745.50137  0.01%   2.4    5s\n",
      "H209009 109610                    4745.9999943 4745.50137  0.01%   2.5    5s\n",
      "H221311 118244                    4745.9999937 4745.50137  0.01%   2.5    5s\n",
      "H221612 118244                    4745.9999921 4745.50137  0.01%   2.5    5s\n",
      "H221676 118244                    4745.9999826 4745.50137  0.01%   2.5    5s\n",
      "H337340 201126                    4745.9999816 4745.50179  0.01%   2.5    8s\n",
      " 396772 241343 4745.69105  721   12 4745.99998 4745.50179  0.01%   2.5   10s\n",
      " 594813 380471 4745.50205 1093   17 4745.99998 4745.50179  0.01%   2.5   15s\n",
      "H625588 404068                    4745.9999806 4745.50179  0.01%   2.5   15s\n",
      "H696560 452615                    4745.9999801 4745.50179  0.01%   2.5   17s\n",
      "H699857 455969                    4745.9999796 4745.50179  0.01%   2.5   17s\n",
      " 802114 531944 4745.50205  781   15 4745.99998 4745.50179  0.01%   2.5   20s\n",
      " 984689 642976 4745.50205  161   17 4745.99998 4745.50179  0.01%   2.6   25s\n",
      "H1100601 717614                    4745.9999782 4745.50179  0.01%   2.6   28s\n",
      " 1141420 735841 4745.98696  381   12 4745.99998 4745.50179  0.01%   2.6   30s\n"
     ]
    }
   ],
   "source": [
    "myModel.optimize()"
   ]
  },
  {
   "cell_type": "code",
   "execution_count": null,
   "id": "46a0be3a",
   "metadata": {},
   "outputs": [],
   "source": []
  }
 ],
 "metadata": {
  "kernelspec": {
   "display_name": "Python 3 (ipykernel)",
   "language": "python",
   "name": "python3"
  },
  "language_info": {
   "codemirror_mode": {
    "name": "ipython",
    "version": 3
   },
   "file_extension": ".py",
   "mimetype": "text/x-python",
   "name": "python",
   "nbconvert_exporter": "python",
   "pygments_lexer": "ipython3",
   "version": "3.9.12"
  }
 },
 "nbformat": 4,
 "nbformat_minor": 5
}
